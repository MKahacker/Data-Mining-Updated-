{
 "cells": [
  {
   "cell_type": "markdown",
   "metadata": {},
   "source": [
    "## Adminstrativa\n",
    "\n",
    "HomeWork 4 on hierarchial clustering due April 14th\n",
    "\n",
    "Project Due Sunday before finals week. Use data set provided to do analysis. The two notebooks provided are tutorials of pipelines and other stuff that you can use to do the analysis. \n",
    "\n",
    "\n",
    "Tips :-\n",
    "\n",
    "- Group features together. \n",
    "\n",
    "- Use pipelines.\n",
    "\n",
    "- Create a onnx pipeline of your model.\n",
    "\n",
    "- Submit your notebook with your model.\n",
    "\n",
    "- Write a report with atleast one part of each listed thing on the project.\n",
    "\n",
    "- Don't go nuts on the explaination but do explain.\n",
    "\n",
    "- Abstract should be about technique and assumptions.\n",
    "\n",
    "- Use decision trees or random forests"
   ]
  },
  {
   "cell_type": "markdown",
   "metadata": {},
   "source": [
    "## Hierarchical Clusters\n",
    "\n",
    "Two Types :- \n",
    "- Agglomative -> Bottom Up\n",
    "- Divisive -> Top Down\n",
    "\n",
    "Visualization: Dendrogram search up.\n",
    "\n",
    "There is a pairwise distance between points ($p_i$, $p_j$)\n",
    "- You can use L1, L2....\n",
    "- You do the distance for every point.\n",
    "\n",
    "We merge stuff that is closet together and then we keep merging until we get all the points. We merge the closest than the second closest weather that is a cluster or points and we keep going iteratively.\n"
   ]
  },
  {
   "cell_type": "markdown",
   "metadata": {},
   "source": [
    "### Nested cluster diagram\n",
    "\n",
    "We can look at the dendrogram and cut the algorithm at a distance to get a k-means clustering. "
   ]
  },
  {
   "cell_type": "markdown",
   "metadata": {},
   "source": [
    "## Agglomative\n",
    "Algorithm :-\n",
    "\n",
    "0. Computer the proximity matrix\n",
    "1. Merge two closest clusters\n",
    "2. Update proximity matrix\n",
    "iterate. Run until 1 cluster remains\n",
    "\n",
    "This is the **agglomative** approach a bottom up."
   ]
  },
  {
   "cell_type": "markdown",
   "metadata": {},
   "source": [
    "**Proximity**\n",
    "\n",
    "Different than distance.\n",
    "\n",
    "Proximity is the Linkage method. \n",
    "\n",
    "The Linkage method can use different distances to compute proximity.\n",
    "\n",
    "Minimum -> Single Link\n",
    "- Shortest edge between subgraphs\n",
    "    - Take the smallest pairwise distance between points in the cluster.\n",
    "\n",
    "Maximum -> Complete Link\n",
    "- Longest edge between subgraphs\n",
    "    - Take the max pairwise distance between points.\n",
    "    \n",
    "Average \n",
    "- Average edge\n",
    "    - Takes the average distance between points.\n",
    "    \n",
    "Centroid\n",
    "- Use the mean/median or other prototype to determine proximity\n",
    "\n",
    "Ward (SSE) -> Minimize SSE\n",
    "- Change in SSE\n",
    "    - Pick the cluster merge that has the smallest increase in SSE\n"
   ]
  },
  {
   "cell_type": "markdown",
   "metadata": {},
   "source": [
    "The main difference between the single and complete link is when we use max and min distance between point when evaluating the clusters proximity between other clusters or points. "
   ]
  },
  {
   "cell_type": "markdown",
   "metadata": {},
   "source": [
    "### Techniques/Notes\n",
    "\n",
    "Single Link:-\n",
    "- Sensitive to outliers/noise\n",
    "- Handle non-eliptical/spherical data\n",
    "\n",
    "Complete Link:- \n",
    "- Graph cliques (subgraphs where everythin is connected to each other)\n",
    "    - Spherical/globolar shape\n",
    "\n",
    "Group Average:-\n",
    "\n",
    "\n",
    "Ward:-\n",
    "- Square the distance we end up we something similar to group average\n",
    "    - Inversions\n",
    "        - You can merge at smaller distances than previous merges"
   ]
  },
  {
   "cell_type": "markdown",
   "metadata": {},
   "source": [
    "### Issues\n",
    "\n",
    "- No objective fucntion\n",
    "- Greedy algorithm\n",
    "- Space/Time complexity\n",
    "- No global optimum\n",
    "- Can't undo decisions\n",
    "- High dimensional data (doesn't too well)\n"
   ]
  },
  {
   "cell_type": "markdown",
   "metadata": {},
   "source": [
    "## Cluster Eval/Validation\n",
    "\n",
    "clustering is unsupervised how do you check results?\n",
    "\n",
    "Ways to look at clustering:-\n",
    "- Clustering Tendency\n",
    "- \"Correct\" number of clusters\n",
    "- Evaluate \"fit\" w/o external labels\n",
    "- Evaluate \"fit\" with external labels\n",
    "    - Grouping for a label should also group together for clusters.\n",
    "    - If class labels and cluster ids don't overlap than somethin might be wrong\n",
    "- Compare two clusterings \n",
    "\n",
    "Types:-\n",
    "- Unsupervised\n",
    "    - Endogenous measures (numbers that you calculate)\n",
    "        - Something that comes within the model\n",
    "        - SSE\n",
    "            - Cluster Cohession\n",
    "                - Intra-cluster SSE (Inside clusters)\n",
    "            - Cluster Coupling \n",
    "                - Inter-cluster SSE (Between clusters)\n",
    "- Supervised \n",
    "    - Exogenous measures \n",
    "        - Something from outside the cluster is used to calculate the measure\n",
    "        - Entropy\n",
    "\n",
    "validity = $\\sum_{i=1}^{k} w_i$ validity($c_i$)\n",
    "\n",
    "validity can be cohesion or seperation\n",
    "\n",
    "$w_i$ is $\\frac{|c_i|}{N}$ where N is number of data points\n",
    "\n",
    "Graph-based:-\n",
    "- G = (V,E) \n",
    "    - V is the points\n",
    "    - E is the weighted links/proximity\n",
    "- Cohesion: cohesnion($c_i$) = $\\sum_{(x\\in c_i) (y \\in c_i)}$ proximity($x$, $y$)\n",
    "\n",
    "- Separation: separation($c_i$, $c_j$) = $\\sum_{(x\\in c_i) (y \\in c_j)}$ proximity($x$, $y$)\n",
    "\n",
    "Proximity can be similarity or distance.\n",
    "\n",
    "\n",
    "I want to maximize cohesion and minimize separation. (similarity)"
   ]
  },
  {
   "cell_type": "markdown",
   "metadata": {},
   "source": [
    "**Prototype view**:-\n",
    "\n",
    "- Cohesion($c_i$) = $\\sum_{x\\in c_i}$ proximity($x$,center($c_i$)) \n",
    "\n",
    "- Separation($c_i$, $c_j$) = proximity(center($c_i$), center($c_j$))\n",
    "\n",
    "- Separation($c_i$) = proximity($c_i$, c) (c is the middle of all the data) "
   ]
  },
  {
   "cell_type": "markdown",
   "metadata": {},
   "source": [
    "## Silhouette Score\n",
    "\n",
    "Combines coupling/separation and cohesion.\n",
    "\n",
    "Does the combination for each point.\n",
    "\n",
    "Take an average for cluster and clustering.\n",
    "\n",
    "Method:- \n",
    "- for the ith point $x_i$ in a cluster\n",
    "    - We get the average distance to all other objects in its cluster\n",
    "    - we call this average $a_i$\n",
    "- We take the minimum distance between $x_i$ and all points not in its cluster.\n",
    "    - We call this $b_i$\n",
    "    \n",
    "silhouette $$s_i = \\frac{b_i - a_i}{max(a_i, b_i)}$$\n",
    "\n",
    "The range of silhouette is [-1, 1]\n",
    "\n",
    "where -1 is the result of a bad clustering because I am closer to another clusters points than my own clusters center.\n",
    "\n"
   ]
  }
 ],
 "metadata": {
  "kernelspec": {
   "display_name": "Python 3",
   "language": "python",
   "name": "python3"
  },
  "language_info": {
   "codemirror_mode": {
    "name": "ipython",
    "version": 3
   },
   "file_extension": ".py",
   "mimetype": "text/x-python",
   "name": "python",
   "nbconvert_exporter": "python",
   "pygments_lexer": "ipython3",
   "version": "3.6.8"
  }
 },
 "nbformat": 4,
 "nbformat_minor": 2
}
