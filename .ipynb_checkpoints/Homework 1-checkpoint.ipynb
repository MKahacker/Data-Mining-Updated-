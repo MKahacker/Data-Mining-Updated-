{
 "cells": [
  {
   "cell_type": "markdown",
   "metadata": {},
   "source": [
    "# Homework 1\n",
    "Mahmoud Kahack __A20349216__\n"
   ]
  },
  {
   "cell_type": "markdown",
   "metadata": {},
   "source": [
    "### Book Problems 1\n",
    "#### 1. \n",
    "a. No, this is a simple filtering task and doesn't need any advanced techniques.\n",
    "    \n",
    "b. No, this is another simple exercises that doesn't require data mining.\n",
    "    \n",
    "c. No, this is a problem of summing up which can easily be done in excel or with a calculator.\n",
    "    \n",
    "d. No, again this is a sorting algorithm problem.\n",
    "    \n",
    "e. No, this is a probability issue and probably could be solved by applying basic stats\n",
    "    \n",
    "f. Yes, this is data mining task because it requires prediction based on a larger volume of previous data.\n",
    "    \n",
    "g. Yes, we can use outlier detection techniques of data mining to achieve this.\n",
    "    \n",
    "h. Yes, again this is a matter of outlier detection to distinguish what is normal and not normal.\n",
    "    \n",
    "i. No, extracting the frequency sound wave is done using signal equations.\n"
   ]
  },
  {
   "cell_type": "markdown",
   "metadata": {},
   "source": [
    "### Book Problems 2\n",
    "#### 2.   \n",
    "<ol>\n",
    "    <li> binary, qualitative, nominal</li>\n",
    "    <li> continous, quantitative, ratio</li>\n",
    "    <li> discrete, qualitative, ordinal</li>\n",
    "    <li> continous, quantitative, interval</li>\n",
    "    <li> discrete, qualitative, ordinal</li>\n",
    "    <li> continous, quantitative, ratio</li>\n",
    "    <li> discrete, quantitative, ratio</li>\n",
    "    <li> discrete, qualitative, ordinal or nominal because ISBN can be ordered by edition.</li>\n",
    "    <li> discrete, qualitative, ordinal</li>\n",
    "    <li> discrete, qualitative, ordinal</li>\n",
    "    <li> continous, quantitative, ratio</li>\n",
    "    <li> continous, quantitative, ratio</li>\n",
    "    <li> discrete, qualitative, nominal</li>\n",
    "</ol>\n",
    "#### 7.  \n",
    "I think that daily temperature has more temporal autocorrelation because temperature changes gradually.  Where as it can rain a lot one day and rain very little the next, temperature is more stable over a small period of time. Ofcourse if you live in Chicago this could be the furthest thing from the truth.\n",
    "\n",
    "\n",
    "#### 15. \n",
    "a. This scheme takes a proportional amount of objects from each group of the population. Thus the sample we choose will be proportional and representative of the orginal population. \n",
    "    \n",
    "b. This scheme isn't guaranteed to get a representative number of objects from each group. This is because it is randomly choosing from the population. This being said if we choose a big enough n than there is a possibility of getting a representative sample. This could be counter productive if the n is too big.\n",
    "\n",
    "#### 16. \n",
    "a. The transformation increases the frequency when its only in one document and decreases the frequency to zero when its in all of them.  \n",
    "    \n",
    "b. This transformation is useful when we need to identify terms that appear in very few documents. By increasing the magnitude of the frequency for words that occur in one or a few documents we basically establish a key word search for those documents eliminating terms that are in all of them. The transformation helps distinguish documents from one another using the terms in them.\n",
    "\n",
    "#### 17. \n",
    "a. the corresponding interval of (a,b) to x is $(a^2, b^2)$\n",
    "    \n",
    "b. $y = x^2$\n",
    "\n",
    "\n",
    "#### 18. \n",
    "a. Hamming distance = 3\n",
    "   Jaccard similarity = 0.4\n",
    "       \n",
    "b. Hamming distance is more similar to Simple Matching Coefficient because they are inverses of each other and use similar ways to measure how binary objects are similar/different. \n",
    "    \n",
    "$SMC = (1 - Hamming Distance)/total bits$\n",
    "\n",
    "Jaccard is more similar to Cosine Measure because both don't consider 0-0 matches when computing the similarity of two objects.\n",
    "    \n",
    "c. I think that Jaccard would be more appropriate because the two organisms might have a lot of negative (0-0 matching) genes, meaning genes that they both don't have, thus to appropriatly measure their similarity we need to only look at the positive (1-1 matching) gene matching. \n",
    "    \n",
    "d. I would probably using Hamming distance for this problem because we want to measure the difference between two humans gene makeups since they share many of the same genes. \n",
    "    \n",
    "\n",
    "#### 19.\n",
    "a. Cosine = 1, Correlation = Nan, and Euclidean = 2 \n",
    "    \n",
    "b. Cosine = 0, Correlation = -1, Euclidean = 2, and Jaccard = 0\n",
    "    \n",
    "c. Cosine = 0, Correlation = 0 , and Euclidean = 2\n",
    "    \n",
    "d. Cosine = 0.75, Correlation = 0.25, and Jaccard = 0.6\n",
    "    \n",
    "e. Cosine = 0, and Correlation = 0"
   ]
  },
  {
   "cell_type": "code",
   "execution_count": 1,
   "metadata": {},
   "outputs": [],
   "source": [
    "import numpy as np\n",
    "import matplotlib.pyplot as pl\n",
    "import pandas as pd\n",
    "import seaborn as sea\n",
    "from sklearn.preprocessing import Imputer\n",
    "from sklearn.decomposition import PCA"
   ]
  },
  {
   "cell_type": "code",
   "execution_count": 2,
   "metadata": {
    "scrolled": true
   },
   "outputs": [
    {
     "data": {
      "text/plain": [
       "<seaborn.axisgrid.FacetGrid at 0x7f3e654d3b00>"
      ]
     },
     "execution_count": 2,
     "metadata": {},
     "output_type": "execute_result"
    },
    {
     "data": {
      "image/png": "[encoded data removed]",
      "text/plain": [
       "<Figure size 432x432 with 4 Axes>"
      ]
     },
     "metadata": {},
     "output_type": "display_data"
    }
   ],
   "source": [
    "#2.1\n",
    "\n",
    "titanic = sea.load_dataset(\"titanic\")\n",
    "\n",
    "age_hist = sea.FacetGrid(titanic, col='survived',row='sex', hue='survived')\n",
    "age_hist.map(pl.hist, 'age', bins=20) \n"
   ]
  },
  {
   "cell_type": "markdown",
   "metadata": {},
   "source": [
    "#### Problem 2.1\n",
    "__Answer:__ The results show that females were more likely to survive than males. It also shows that younger males were more likely to survive than males between 18 to 55 years old. For females 18 to 30 years old was the age range that had the most death rates. The results make sense because women, children, and elders were given priority to evacuate the sinking ship. Thus the likelyhood of being a male and surviving were very low and especially if you were an adult between the age of 18 and 55."
   ]
  },
  {
   "cell_type": "markdown",
   "metadata": {},
   "source": [
    "\n"
   ]
  },
  {
   "cell_type": "code",
   "execution_count": 3,
   "metadata": {},
   "outputs": [
    {
     "name": "stdout",
     "output_type": "stream",
     "text": [
      "Original variance: 1481.5693929745862\n",
      "Mean variance: 1459.1779160026776\n",
      "Mode variance: 1490.0361252104324\n",
      "Median variance: 1490.0361252104324\n"
     ]
    }
   ],
   "source": [
    "#2.2\n",
    "\n",
    "auto = pd.read_table(\"https://archive.ics.uci.edu/ml/machine-learning-databases/auto-mpg/auto-mpg.data\",sep=\"\\s+\", header=None)\n",
    "auto.columns=[\"mpg\",\"cylinders\", \"displacement\", \"horsepower\", \"weight\", \"acceleration\",\"model-year\", \"origin\", \"car-name\"]\n",
    "\n",
    "auto[\"horsepower\"] = auto[\"horsepower\"].replace(to_replace='?', value=np.nan)\n",
    "new_columns = auto.drop(columns=['car-name','mpg','cylinders','displacement','weight','acceleration','model-year','origin'])\n",
    "new_columns.horsepower = new_columns.horsepower.astype(np.float64)\n",
    "\n",
    "mean_imp = Imputer(strategy = \"mean\", missing_values=np.nan,axis=0)\n",
    "mean_columns = mean_imp.fit_transform(new_columns)\n",
    "\n",
    "mode_imp = Imputer(strategy = \"most_frequent\", missing_values=np.nan,axis=0)\n",
    "mode_columns = mode_imp.fit_transform(new_columns)\n",
    "\n",
    "median_imp = Imputer(strategy = \"median\", missing_values=np.nan,axis=0)\n",
    "median_columns = mode_imp.fit_transform(new_columns)\n",
    "\n",
    "print(\"Original variance: \" +str(new_columns[\"horsepower\"].var()))\n",
    "auto[\"horsepower\"] = mean_columns\n",
    "print(\"Mean variance: \" + str(auto[\"horsepower\"].var()))\n",
    "auto[\"horsepower\"] = mode_columns\n",
    "print(\"Mode variance: \" + str(auto[\"horsepower\"].var()))\n",
    "auto[\"horsepower\"] = median_columns\n",
    "print(\"Median variance: \" + str(auto[\"horsepower\"].var()))\n"
   ]
  },
  {
   "cell_type": "markdown",
   "metadata": {},
   "source": [
    "#### Problem 2.2\n",
    "\n",
    "__Answer:__\n",
    "The mean replacement lowers the variance of the feature to 1459.1778874609693. This is because the replacement substitutes the missing values of for the mean. What this means is that those values don't add anything to the variance because the variance equation has $$x_i - \\mu$$ in it. Thus the variance is lower when the mean is used to impute as compared to mode and median. An alternative imputing strategy that will preserve the distribution is to use objects that are very similar to the object you are replacing."
   ]
  },
  {
   "cell_type": "code",
   "execution_count": 4,
   "metadata": {},
   "outputs": [
    {
     "name": "stdout",
     "output_type": "stream",
     "text": [
      "Principal Component 1: 92.4619 %\n",
      "Principal Component 2: 5.3066 %\n",
      "Principal Component 3: 1.7103 %\n",
      "Principal Component 4: 0.5212 %\n",
      "\n",
      "Original Feature explained variance\n",
      "sepal_length   14.9945 %\n",
      "sepal_width   4.1544 %\n",
      "petal_length   68.1458 %\n",
      "petal_width   12.7053 %\n"
     ]
    }
   ],
   "source": [
    "#2.3\n",
    "iris = sea.load_dataset(\"iris\")\n",
    "num_iris = iris.drop(columns=\"species\")\n",
    "\n",
    "feature = [\"sepal_length\", \"sepal_width\", \"petal_length\", \"petal_width\"]\n",
    "\n",
    "pca_iris = PCA()\n",
    "b = pca_iris.fit_transform(num_iris)\n",
    "pca_precent = np.around(pca_iris.explained_variance_ratio_, 6)\n",
    "var_precent = np.around((iris.var()/iris.var().sum())*100, 4)\n",
    "\n",
    "for i in range(len(pca_precent)):\n",
    "    print(\"Principal Component \" + str(i+1) + \": \" + str(pca_precent[i]*100) + \" %\")\n",
    "print ()\n",
    "print(\"Original Feature explained variance\")\n",
    "for k in range(len(var_precent)):\n",
    "    print(feature[k] +\"   \"+ str(var_precent[k]) + \" %\")\n"
   ]
  },
  {
   "cell_type": "markdown",
   "metadata": {},
   "source": [
    "#### Problem 2.3\n",
    "\n",
    "__Answer:__ The PCA decomposition extracted 4 components the first captures 92.46% of the variance from the dataset. The second component captured 5.3%, the third caputured 1.71%, and the fourth captured 0.52%. \n",
    "\n",
    "If we were just to take the original features' variance without the decomposition, our highest variance would be the feature of petal_length with 68%. The rest of the features had a variance of 14%, 12% and 4% of the total variance respectively. \n",
    "\n",
    "Thus we can see that the PCA decomposition helps us capture most of the variance in the data set with the first principle component (92%). Thus we could use only one PCA component to get the variance equavalent of three of the original features' variance. "
   ]
  },
  {
   "cell_type": "code",
   "execution_count": 5,
   "metadata": {},
   "outputs": [
    {
     "data": {
      "text/plain": [
       "<matplotlib.legend.Legend at 0x7f3e6033f390>"
      ]
     },
     "execution_count": 5,
     "metadata": {},
     "output_type": "execute_result"
    },
    {
     "data": {
      "image/png": "[encoded data removed]",
      "text/plain": [
       "<Figure size 576x576 with 1 Axes>"
      ]
     },
     "metadata": {},
     "output_type": "display_data"
    }
   ],
   "source": [
    "#2.4a\n",
    "first_pca = PCA(n_components = 1)\n",
    "first = first_pca.fit_transform(num_iris)\n",
    "originals = [\"Petal Length\", \"Sepal Length\", \"Sepal Width\", \"Petal Width\"]\n",
    "fig = pl.figure(figsize = (8,8))\n",
    "ax = fig.add_subplot(1,1,1) \n",
    "ax.set_xlabel('Principal Component 1', fontsize = 15)\n",
    "ax.set_ylabel('Originals', fontsize = 15)\n",
    "ax.scatter(first, num_iris[\"petal_length\"])\n",
    "ax.scatter(first, num_iris[\"sepal_length\"])\n",
    "ax.scatter(first, num_iris[\"sepal_width\"])\n",
    "ax.scatter(first, num_iris[\"petal_width\"])\n",
    "ax.legend(originals)"
   ]
  },
  {
   "cell_type": "code",
   "execution_count": 6,
   "metadata": {},
   "outputs": [
    {
     "name": "stdout",
     "output_type": "stream",
     "text": [
      "Cosine distance PC1 and petal length 0.4231058992722636\n",
      "Cosine distance PC1 and sepal length 0.12550173314295923\n",
      "Cosine distance PC1 and petal width 0.5172090659664786\n",
      "Cosine distance PC1 and sepal width -0.05609403648857778\n"
     ]
    }
   ],
   "source": [
    "#2.4b\n",
    "len_pc = np.linalg.norm(first)\n",
    "firstarray = np.squeeze(np.asarray(first))\n",
    "\n",
    "plen = np.squeeze(np.asarray(num_iris[\"petal_length\"]))\n",
    "slen = np.squeeze(np.asarray(num_iris[\"sepal_length\"]))\n",
    "pwid = np.squeeze(np.asarray(num_iris[\"petal_width\"]))\n",
    "swid = np.squeeze(np.asarray(num_iris[\"sepal_width\"]))\n",
    "\n",
    "displen = np.dot(firstarray, plen)/(len_pc*(np.linalg.norm(plen)))\n",
    "disslen = np.dot(firstarray, slen)/(len_pc*(np.linalg.norm(slen)))\n",
    "dispwid = np.dot(firstarray, pwid)/(len_pc*(np.linalg.norm(pwid)))\n",
    "disswid = np.dot(firstarray, swid)/(len_pc*(np.linalg.norm(swid)))\n",
    "\n",
    "print(\"Cosine distance PC1 and petal length \" + str(displen))\n",
    "print(\"Cosine distance PC1 and sepal length \" + str(disslen))\n",
    "print(\"Cosine distance PC1 and petal width \" + str(dispwid))\n",
    "print(\"Cosine distance PC1 and sepal width \" + str(disswid))\n"
   ]
  },
  {
   "cell_type": "code",
   "execution_count": 7,
   "metadata": {},
   "outputs": [
    {
     "name": "stdout",
     "output_type": "stream",
     "text": [
      "Angles PC1 and petal length 64.96916822288823 degree\n",
      "Angles PC1 and sepal length 82.79026884863997 degree\n",
      "Angles PC1 and petal width 58.85477333102761 degree\n",
      "Angles PC1 and sepal width 93.21563940934152 degree\n"
     ]
    }
   ],
   "source": [
    "print(\"Angles PC1 and petal length \" + str((np.arccos(displen)/np.pi)*180) + \" degree\")\n",
    "print(\"Angles PC1 and sepal length \" + str((np.arccos(disslen)/np.pi)*180) + \" degree\")\n",
    "print(\"Angles PC1 and petal width \" + str((np.arccos(dispwid)/np.pi)*180) + \" degree\")\n",
    "print(\"Angles PC1 and sepal width \" + str((np.arccos(disswid)/np.pi)*180) + \" degree\")"
   ]
  },
  {
   "cell_type": "code",
   "execution_count": 8,
   "metadata": {},
   "outputs": [
    {
     "name": "stdout",
     "output_type": "stream",
     "text": [
      "[[1.         0.96286543]\n",
      " [0.96286543 1.        ]]\n"
     ]
    },
    {
     "data": {
      "text/plain": [
       "<matplotlib.collections.PathCollection at 0x7f3e602b8cc0>"
      ]
     },
     "execution_count": 8,
     "metadata": {},
     "output_type": "execute_result"
    },
    {
     "data": {
      "image/png": "[encoded data removed]",
      "text/plain": [
       "<Figure size 576x576 with 1 Axes>"
      ]
     },
     "metadata": {},
     "output_type": "display_data"
    }
   ],
   "source": [
    "#2.4c\n",
    "correlation = np.corrcoef(plen, pwid)\n",
    "print(correlation)\n",
    "fig2 = pl.figure(figsize = (8,8))\n",
    "new = fig2.add_subplot(1,1,1)\n",
    "new.set_xlabel('Pedal Length', fontsize = 15)\n",
    "new.set_ylabel('Pedal Width', fontsize=15)\n",
    "new.scatter(plen, pwid)"
   ]
  },
  {
   "cell_type": "markdown",
   "metadata": {},
   "source": [
    "#### Problem 2.4\n",
    "\n",
    "__Answer:__\n",
    "The two features that correlate most with PC1 are petal width and petal length. Petal width correlates more with PC1 because it has the greatest cosine distance(0.51) while petal length has a very similar but smaller cosine distance(0.42). When computing cosine distances the closer the value is to 1 the more similar the objects. Thus petal width and PC1 are very correlated. \n",
    "\n",
    "The two features Petal length and Petal width have a correlation of 0.9628 which is a very high correlation. The projections show this relationship very clearly because both these features grow linearly in the graph.\n"
   ]
  },
  {
   "cell_type": "code",
   "execution_count": 9,
   "metadata": {},
   "outputs": [
    {
     "name": "stdout",
     "output_type": "stream",
     "text": [
      "Total variance of original = 4.572957046979867\n",
      "Total variance of PCA eigen values = 4.572957046979866\n"
     ]
    }
   ],
   "source": [
    "#2.5\n",
    "pc_df = pd.DataFrame(data = b, columns= [\"PC1\", \"PC2\", \"PC3\", \"PC4\"])\n",
    "print(\"Total variance of original = \"+ str(num_iris.var().sum()))\n",
    "print(\"Total variance of PCA eigen values = \" + str(pc_df.var().sum()) )"
   ]
  },
  {
   "cell_type": "markdown",
   "metadata": {},
   "source": [
    "#### Problem 2.5\n",
    "\n",
    "__Answer:__\n",
    "Both total variances are the same. This is because PCA decomposition doesn't change the variance amount it just rotates the axis to find new eigen vectors that capture the variance more effectively. The fact is that PCA decomposition just makes the general variance equal to the total variance. \n",
    "\n",
    "If we wanted to capture 95% of the variance in this data set we could use the 1st and 2nd Principle components to build our model. This reduces our dimensionality in halve. Thus making our model simpler."
   ]
  }
 ],
 "metadata": {
  "kernelspec": {
   "display_name": "Python 3",
   "language": "python",
   "name": "python3"
  },
  "language_info": {
   "codemirror_mode": {
    "name": "ipython",
    "version": 3
   },
   "file_extension": ".py",
   "mimetype": "text/x-python",
   "name": "python",
   "nbconvert_exporter": "python",
   "pygments_lexer": "ipython3",
   "version": "3.6.5"
  }
 },
 "nbformat": 4,
 "nbformat_minor": 2
}
